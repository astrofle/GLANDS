{
 "cells": [
  {
   "cell_type": "code",
   "execution_count": 1,
   "id": "1a8d9bbd-042f-4aaf-ba3d-43d06818a263",
   "metadata": {},
   "outputs": [],
   "source": [
    "# Set up some python magic for the notebook.\n",
    "%matplotlib widget\n",
    "%load_ext autoreload\n",
    "%autoreload 2"
   ]
  },
  {
   "cell_type": "code",
   "execution_count": 2,
   "id": "83a177ae-3789-4687-9a1d-599d1ccea1bc",
   "metadata": {},
   "outputs": [],
   "source": [
    "# Import packages.\n",
    "import numpy as np\n",
    "import matplotlib.pyplot as plt\n",
    "\n",
    "from glands import datared, spectral_axis, sdfits_io, coordinates, utils"
   ]
  },
  {
   "cell_type": "code",
   "execution_count": 3,
   "id": "6ba7dbd5-3d44-49d3-a41b-887220cbe755",
   "metadata": {},
   "outputs": [],
   "source": [
    "# This is where the data lives.\n",
    "#path = \"/home/scratch/psalas/projects/DriftScan/data\"\n",
    "path = \"/home/sdfits/\"\n",
    "projid = \"AGBT22B_234_02\" # The project/session identifier\n",
    "vbank = \"B\" # Which VEGAS bank to work with.\n",
    "sky_scans = [1,3] # Calibrate these scans."
   ]
  },
  {
   "cell_type": "code",
   "execution_count": 4,
   "id": "f9663246-1d8b-4140-8eae-f442fb52006e",
   "metadata": {},
   "outputs": [],
   "source": [
    "# Use the information from the previous cell to define the filename.\n",
    "fitsfile = f\"{path}/{projid}/{projid}.raw.vegas/{projid}.raw.vegas.{vbank}.fits\"\n",
    "# Load the contents of the SDFITS file.\n",
    "table = sdfits_io.load_sdfits(fitsfile)"
   ]
  },
  {
   "cell_type": "code",
   "execution_count": 5,
   "id": "f97104c8-5406-4004-97c8-f1931222d44e",
   "metadata": {},
   "outputs": [],
   "source": [
    "# Loop over scans, calibrating them and storing them in an array.\n",
    "table_cal = np.empty(len(sky_scans), dtype=object)\n",
    "\n",
    "for i,s in enumerate(sky_scans):\n",
    "    table_cal[i] = datared.calibrate_scan(table, s, plnum=0)"
   ]
  },
  {
   "cell_type": "code",
   "execution_count": 6,
   "id": "113c82f9-e702-4f33-adb0-b4e9f683f2c8",
   "metadata": {},
   "outputs": [],
   "source": [
    "# Combine all the calibrated data into a single table.\n",
    "new_table = utils.merge_tables(table_cal)"
   ]
  },
  {
   "cell_type": "code",
   "execution_count": 7,
   "id": "fefa135f-be0e-4e48-8156-825a47e9dc91",
   "metadata": {},
   "outputs": [],
   "source": [
    "# Transform the AzEl coordinates to Equatorial.\n",
    "new_table = coordinates.transform_to_radec(new_table)"
   ]
  },
  {
   "cell_type": "code",
   "execution_count": 8,
   "id": "884320da-200a-4796-abc2-92ea9daa086b",
   "metadata": {},
   "outputs": [],
   "source": [
    "# Save the calibrated data to a new SDFITS file.\n",
    "sdfits_io.write_sdfits(\"cal_scan_test_merged.fits\", new_table)"
   ]
  },
  {
   "cell_type": "code",
   "execution_count": null,
   "id": "ee50f74f-2b68-4ee5-81a3-bb4958ac58b4",
   "metadata": {},
   "outputs": [],
   "source": []
  }
 ],
 "metadata": {
  "kernelspec": {
   "display_name": "Python 3 (ipykernel)",
   "language": "python",
   "name": "python3"
  },
  "language_info": {
   "codemirror_mode": {
    "name": "ipython",
    "version": 3
   },
   "file_extension": ".py",
   "mimetype": "text/x-python",
   "name": "python",
   "nbconvert_exporter": "python",
   "pygments_lexer": "ipython3",
   "version": "3.11.3"
  }
 },
 "nbformat": 4,
 "nbformat_minor": 5
}
